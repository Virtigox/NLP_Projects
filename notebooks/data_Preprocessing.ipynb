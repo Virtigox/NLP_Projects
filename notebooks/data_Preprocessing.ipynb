{
 "cells": [
  {
   "cell_type": "code",
   "execution_count": null,
   "metadata": {},
   "outputs": [],
   "source": [
    "# import necessary libraries\n",
    "import nltk\n",
    "from nltk.corpus import stopwords\n",
    "from nltk.tokenize import word_tokenize\n",
    "from collections import Counter\n",
    "\n",
    "\n",
    "#text_path = \"../data/Custom_Articles/QuincyCollege_data.txt\"\n",
    "text_path = \"../data/News articles/articles.txt\"\n",
    "\n",
    "\n",
    "# Download punkt tokenizer if not already done\n",
    "nltk.download('punkt')\n",
    "nltk.data.path.append('/home/codespace/nltk_data')  # Add this line to set the path\n",
    "\n",
    "\n",
    "print(nltk.data.path)  # Show paths where NLTK looks for data\n",
    "\n",
    "\n",
    "text = \"Hello, how are you doing today? I'm learning NLP.\"\n",
    "tokens = word_tokenize(text)\n",
    "\n",
    "#print(tokens)\n"
   ]
  },
  {
   "cell_type": "code",
   "execution_count": null,
   "metadata": {},
   "outputs": [],
   "source": [
    "import os\n",
    "print(os.listdir('/home/codespace/nltk_data/'))  # Or the correct path based on your system\n",
    "\n"
   ]
  }
 ],
 "metadata": {
  "kernelspec": {
   "display_name": "Python 3",
   "language": "python",
   "name": "python3"
  },
  "language_info": {
   "codemirror_mode": {
    "name": "ipython",
    "version": 3
   },
   "file_extension": ".py",
   "mimetype": "text/x-python",
   "name": "python",
   "nbconvert_exporter": "python",
   "pygments_lexer": "ipython3",
   "version": "3.12.1"
  }
 },
 "nbformat": 4,
 "nbformat_minor": 2
}
