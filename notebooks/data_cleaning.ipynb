{
 "cells": [
  {
   "cell_type": "code",
   "execution_count": 1,
   "metadata": {},
   "outputs": [
    {
     "name": "stderr",
     "output_type": "stream",
     "text": [
      "[nltk_data] Downloading package punkt to\n",
      "[nltk_data]     /home/vscode/workspace/nltk_data...\n",
      "[nltk_data]   Package punkt is already up-to-date!\n"
     ]
    },
    {
     "data": {
      "text/plain": [
       "True"
      ]
     },
     "execution_count": 1,
     "metadata": {},
     "output_type": "execute_result"
    }
   ],
   "source": [
    "# import necessary libraries\n",
    "import nltk\n",
    "import os\n",
    "\n",
    "# Hardcoded the installation and dowloaded file\n",
    "\n",
    "# Define where to store the NLTK data (within workspace for write permissions)\n",
    "nltk_data_dir = os.path.expanduser(\"~/workspace/nltk_data\")\n",
    "nltk.data.path.append(nltk_data_dir)\n",
    "\n",
    "# Download 'punkt' and 'punkt_tab' in the defined directory\n",
    "nltk.download('punkt', download_dir=nltk_data_dir)\n",
    "\n"
   ]
  },
  {
   "cell_type": "code",
   "execution_count": null,
   "metadata": {},
   "outputs": [],
   "source": [
    "from gensim.corpora.dictionary import Dictionary\n",
    "from nltk.corpus import stopwords\n",
    "from nltk.tokenize import word_tokenize\n",
    "from nltk.stem import WordNetLemmatizer\n",
    "from collections import Counter\n",
    "import os \n",
    "\n",
    "# Create an array of token without any stopwords and lowercase\n",
    "def createTokensWithoutStopwords(file_path):\n",
    "    # Read the text from the text file\n",
    "    document_path = file_path\n",
    "    document = \"\"\n",
    "    with open(document_path, mode='r', encoding='utf-8') as file:\n",
    "        document = file.read()\n",
    "\n",
    "    # Tokenizing text from the document\n",
    "    tokenized_docs = [word for word in word_tokenize(document.lower()) if word.isalpha()]\n",
    "    no_stop = [token for token in tokenized_docs if token not in stopwords.words('english')]\n",
    "\n",
    "    return no_stop\n",
    "\n",
    "\n",
    "# Counter object which is a dictionary with word and its count\n",
    "def creatBagOfWord(tokenized_doc):\n",
    "\n",
    "    # Instantiate the WordNetLemmatizer\n",
    "    # This will find the base form of the word- 'cats': 'cat', 'running':'run'\n",
    "    wordnet_lemmatizer = WordNetLemmatizer()\n",
    "\n",
    "    # Lemmatize all the tokens into a new list: lemmatized\n",
    "    lemmatized = [ wordnet_lemmatizer.lemmatize(t) for t in tokenized_doc]\n",
    "\n",
    "    # Create the bag-of-words: bow\n",
    "    bow = Counter(lemmatized)\n",
    "\n",
    "    return bow\n",
    "\n",
    "\n",
    "# Creating different text files into multi-dimensional array of tokens\n",
    "def createTokensOfDifferentArticles(dir_path):\n",
    "    tokenOfArticles = []\n",
    "    files = os.listdir(dir_path)\n",
    "    for file in files:\n",
    "        file_path = dir_path + \"/\" + file\n",
    "        tokens = createTokensWithoutStopwords(file_path)\n",
    "        tokenOfArticles.append(tokens)\n",
    "    return tokenOfArticles\n",
    "\n"
   ]
  },
  {
   "cell_type": "code",
   "execution_count": 29,
   "metadata": {},
   "outputs": [],
   "source": [
    "from gensim.corpora.dictionary import Dictionary\n",
    "# Create a corpus, a bag of word with integer IDs.\n",
    "\n",
    "# Giving words integer IDs\n",
    "def createDictionary(article_tokens):\n",
    "    articles = article_tokens\n",
    "    # create a dictionary out of the article\n",
    "    dictionary = Dictionary(articles)\n",
    "    \n",
    "    return dictionary\n",
    "\n",
    "# Create a coprus - a dictionary with integer IDs, and frequency counts\n",
    "def createCorpus(dictionary_bow, article_tokens):\n",
    "    corpus = [dictionary_bow.doc2bow(article) for article in article_tokens]\n",
    "    return corpus\n",
    "\n",
    "# Getting information of words from corpus\n",
    "def getWordInfoFromCorpus(corpus_data, dictionary_data, word):\n",
    "    word_id = dictionary_data.token2id.get(word)\n",
    "    if word_id is None:\n",
    "        print(f\"'{word}' doesn't exist in the dictionary.\")\n",
    "        return\n",
    "    \n",
    "    found = False\n",
    "    for corpus in corpus_data:\n",
    "        count = dict(corpus).get(word_id)\n",
    "        if count:\n",
    "            print(f\"'{word}' appears {count} times in this document.\")\n",
    "            found = True\n",
    "    \n",
    "    if not found:\n",
    "        print(f\"'{word}' doesn't appear in any document.\")"
   ]
  },
  {
   "cell_type": "code",
   "execution_count": 35,
   "metadata": {},
   "outputs": [
    {
     "name": "stdout",
     "output_type": "stream",
     "text": [
      "'DeepSeek' doesn't exist in the dictionary.\n"
     ]
    }
   ],
   "source": [
    "# tokenize the different articles\n",
    "token_articles = createTokensOfDifferentArticles(\"../data/Custom_Articles\")\n",
    "\n",
    "# Getting corpus data\n",
    "dictionary_data = createDictionary(token_articles)\n",
    "\n",
    "corpus_data = createCorpus(dictionary_data, token_articles)\n",
    "\n",
    "getWordInfoFromCorpus(corpus_data, dictionary_data, 'DeepSeek')"
   ]
  }
 ],
 "metadata": {
  "kernelspec": {
   "display_name": "Python 3",
   "language": "python",
   "name": "python3"
  },
  "language_info": {
   "codemirror_mode": {
    "name": "ipython",
    "version": 3
   },
   "file_extension": ".py",
   "mimetype": "text/x-python",
   "name": "python",
   "nbconvert_exporter": "python",
   "pygments_lexer": "ipython3",
   "version": "3.12.9"
  }
 },
 "nbformat": 4,
 "nbformat_minor": 2
}
