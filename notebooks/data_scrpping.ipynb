{
 "cells": [
  {
   "cell_type": "code",
   "execution_count": 4,
   "metadata": {},
   "outputs": [],
   "source": [
    "from bs4 import BeautifulSoup # Web Scraping tool\n",
    "import requests # GET request from website\n",
    "import csv # for turning into CSV format\n",
    "import os # Locating file path of the system\n",
    "\n",
    "def scraping_text_from_website(wesite_url, filename):\n",
    "    dir_path = '../data/Custom_Articles' # relative path for generality\n",
    "\n",
    "    # If not directory exist, create one\n",
    "    if not os.path.exists(dir_path):\n",
    "        os.makedirs(dir_path)\n",
    "\n",
    "\n",
    "    # file path\n",
    "    file_path = os.path.join(dir_path,filename)\n",
    "    \n",
    "    url = wesite_url\n",
    "    response = requests.get(url)\n",
    "    soup = BeautifulSoup(response.text, 'html.parser')\n",
    "\n",
    "    # Extract all visible text (ignoring JavaScript, CSS, etc.)\n",
    "    text = ' '.join(soup.stripped_strings)\n",
    "\n",
    "    # Write text to file\n",
    "    with open(file_path, mode='w', encoding='utf-8') as file:\n",
    "        file.write(text)\n",
    "\n",
    "    print(f\"Text saved to '{filename}.\")"
   ]
  },
  {
   "cell_type": "code",
   "execution_count": 5,
   "metadata": {},
   "outputs": [
    {
     "name": "stdout",
     "output_type": "stream",
     "text": [
      "Text saved to 'WH_inauguration_data.txt.\n",
      "Text saved to 'QuincyCollege_data.txt.\n",
      "Text saved to 'WH_briefingStatement.txt.\n",
      "Scrapping process finished.\n"
     ]
    }
   ],
   "source": [
    "websites = [\"https://www.whitehouse.gov/remarks/2025/01/the-inaugural-address/\", \n",
    "            \"https://en.wikipedia.org/wiki/Quincy_College\", \n",
    "            \"https://www.whitehouse.gov/briefings-statements/2025/01/press-briefing-by-press-secretary-karoline-leavitt/\"]\n",
    "\n",
    "file_name = [\"WH_inauguration_data.txt\", \"QuincyCollege_data.txt\", \"WH_briefingStatement.txt\"]\n",
    "\n",
    "websites_zip_file = zip(websites,file_name)\n",
    "\n",
    "for web, name in websites_zip_file:\n",
    "        scraping_text_from_website(web, name)\n",
    "\n",
    "print(\"Scrapping process finished.\")"
   ]
  }
 ],
 "metadata": {
  "kernelspec": {
   "display_name": "Python 3",
   "language": "python",
   "name": "python3"
  },
  "language_info": {
   "codemirror_mode": {
    "name": "ipython",
    "version": 3
   },
   "file_extension": ".py",
   "mimetype": "text/x-python",
   "name": "python",
   "nbconvert_exporter": "python",
   "pygments_lexer": "ipython3",
   "version": "3.12.1"
  }
 },
 "nbformat": 4,
 "nbformat_minor": 2
}
